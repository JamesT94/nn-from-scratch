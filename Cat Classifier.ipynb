{
 "cells": [
  {
   "cell_type": "code",
   "execution_count": 29,
   "metadata": {},
   "outputs": [],
   "source": [
    "import os\n",
    "import numpy as np\n",
    "import pandas as pd\n",
    "from core_functions import *\n",
    "import matplotlib.pyplot as plt\n",
    "import matplotlib\n",
    "from sklearn.model_selection import train_test_split\n",
    "from PIL import Image\n",
    "from tqdm import tqdm"
   ]
  },
  {
   "cell_type": "code",
   "execution_count": 36,
   "metadata": {},
   "outputs": [
    {
     "name": "stderr",
     "output_type": "stream",
     "text": [
      "100%|██████████████████████████████████████████████████████████████████████████████████████████████████████████████████████████████████████████████████████████████████████████████████████████████| 12499/12499 [00:56<00:00, 221.08it/s]\n",
      "100%|██████████████████████████████████████████████████████████████████████████████████████████████████████████████████████████████████████████████████████████████████████████████████████████████| 12499/12499 [00:16<00:00, 753.53it/s]\n"
     ]
    }
   ],
   "source": [
    "cat_images = []\n",
    "cat_arrays = []\n",
    "\n",
    "for filename in tqdm(os.listdir('datasets/archive/PetImages/Cat')):\n",
    "    cat_original = Image.open('datasets/archive/PetImages/Cat/' + filename)\n",
    "    cat_resized = cat_original.resize((240, 240))\n",
    "    cat_images.append(cat_resized)\n",
    "    \n",
    "for cat_image in tqdm(cat_images):\n",
    "    cat_array = np.asarray(cat_image)\n",
    "    cat_arrays.append(cat_array)"
   ]
  },
  {
   "cell_type": "code",
   "execution_count": 52,
   "metadata": {},
   "outputs": [
    {
     "name": "stderr",
     "output_type": "stream",
     "text": [
      "100%|█████████████████████████████████████████████████████████████████████████████████████████████████████████████████████████████████████████████████████████████████████████████████████████████| 12499/12499 [00:03<00:00, 3635.59it/s]\n",
      "<ipython-input-52-4788ad76f73e>:6: VisibleDeprecationWarning: Creating an ndarray from ragged nested sequences (which is a list-or-tuple of lists-or-tuples-or ndarrays with different lengths or shapes) is deprecated. If you meant to do this, you must specify 'dtype=object' when creating the ndarray\n",
      "  cats_flat = np.array(cats_flat)\n"
     ]
    },
    {
     "data": {
      "text/plain": [
       "(12499,)"
      ]
     },
     "execution_count": 52,
     "metadata": {},
     "output_type": "execute_result"
    }
   ],
   "source": [
    "cats_flat = []\n",
    "\n",
    "for cat_array in tqdm(cat_arrays):\n",
    "    cats_flat.append(cat_array.flatten())\n",
    "    \n",
    "cats_flat = np.array(cats_flat)\n",
    "cats_flat[0].shape"
   ]
  },
  {
   "cell_type": "code",
   "execution_count": 53,
   "metadata": {},
   "outputs": [
    {
     "data": {
      "text/plain": [
       "(172800,)"
      ]
     },
     "execution_count": 53,
     "metadata": {},
     "output_type": "execute_result"
    }
   ],
   "source": [
    "cats_flat[0].shape"
   ]
  },
  {
   "cell_type": "code",
   "execution_count": null,
   "metadata": {},
   "outputs": [],
   "source": []
  }
 ],
 "metadata": {
  "kernelspec": {
   "display_name": "Python 3",
   "language": "python",
   "name": "python3"
  },
  "language_info": {
   "codemirror_mode": {
    "name": "ipython",
    "version": 3
   },
   "file_extension": ".py",
   "mimetype": "text/x-python",
   "name": "python",
   "nbconvert_exporter": "python",
   "pygments_lexer": "ipython3",
   "version": "3.8.5"
  }
 },
 "nbformat": 4,
 "nbformat_minor": 4
}
